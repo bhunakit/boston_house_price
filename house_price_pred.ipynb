{
 "cells": [
  {
   "cell_type": "code",
   "execution_count": 92,
   "metadata": {},
   "outputs": [],
   "source": [
    "import numpy as np\n",
    "import pandas as pd\n",
    "import matplotlib.pyplot as plt\n",
    "\n",
    "from sklearn.preprocessing import MinMaxScaler, StandardScaler\n",
    "from sklearn.model_selection import train_test_split\n",
    "from sklearn.linear_model import LinearRegression\n",
    "from sklearn.ensemble import RandomForestRegressor\n",
    "from sklearn.metrics import mean_squared_error, mean_absolute_error, r2_score\n",
    "\n",
    "import torch\n",
    "import torch.nn as nn\n",
    "import torch.optim as optim\n",
    "from torch.utils.data import TensorDataset, DataLoader\n"
   ]
  },
  {
   "cell_type": "markdown",
   "metadata": {},
   "source": [
    "## Loading data"
   ]
  },
  {
   "cell_type": "code",
   "execution_count": 93,
   "metadata": {},
   "outputs": [
    {
     "data": {
      "text/html": [
       "<div>\n",
       "<style scoped>\n",
       "    .dataframe tbody tr th:only-of-type {\n",
       "        vertical-align: middle;\n",
       "    }\n",
       "\n",
       "    .dataframe tbody tr th {\n",
       "        vertical-align: top;\n",
       "    }\n",
       "\n",
       "    .dataframe thead th {\n",
       "        text-align: right;\n",
       "    }\n",
       "</style>\n",
       "<table border=\"1\" class=\"dataframe\">\n",
       "  <thead>\n",
       "    <tr style=\"text-align: right;\">\n",
       "      <th></th>\n",
       "      <th>CRIM</th>\n",
       "      <th>ZN</th>\n",
       "      <th>INDUS</th>\n",
       "      <th>CHAS</th>\n",
       "      <th>NOX</th>\n",
       "      <th>RM</th>\n",
       "      <th>AGE</th>\n",
       "      <th>DIS</th>\n",
       "      <th>RAD</th>\n",
       "      <th>TAX</th>\n",
       "      <th>PTRATIO</th>\n",
       "      <th>B</th>\n",
       "      <th>LSTAT</th>\n",
       "      <th>MEDV</th>\n",
       "    </tr>\n",
       "  </thead>\n",
       "  <tbody>\n",
       "    <tr>\n",
       "      <th>0</th>\n",
       "      <td>0.00632</td>\n",
       "      <td>18.0</td>\n",
       "      <td>2.31</td>\n",
       "      <td>0</td>\n",
       "      <td>0.538</td>\n",
       "      <td>6.575</td>\n",
       "      <td>65.2</td>\n",
       "      <td>4.0900</td>\n",
       "      <td>1</td>\n",
       "      <td>296.0</td>\n",
       "      <td>15.3</td>\n",
       "      <td>396.90</td>\n",
       "      <td>4.98</td>\n",
       "      <td>24.0</td>\n",
       "    </tr>\n",
       "    <tr>\n",
       "      <th>1</th>\n",
       "      <td>0.02731</td>\n",
       "      <td>0.0</td>\n",
       "      <td>7.07</td>\n",
       "      <td>0</td>\n",
       "      <td>0.469</td>\n",
       "      <td>6.421</td>\n",
       "      <td>78.9</td>\n",
       "      <td>4.9671</td>\n",
       "      <td>2</td>\n",
       "      <td>242.0</td>\n",
       "      <td>17.8</td>\n",
       "      <td>396.90</td>\n",
       "      <td>9.14</td>\n",
       "      <td>21.6</td>\n",
       "    </tr>\n",
       "    <tr>\n",
       "      <th>2</th>\n",
       "      <td>0.02729</td>\n",
       "      <td>0.0</td>\n",
       "      <td>7.07</td>\n",
       "      <td>0</td>\n",
       "      <td>0.469</td>\n",
       "      <td>7.185</td>\n",
       "      <td>61.1</td>\n",
       "      <td>4.9671</td>\n",
       "      <td>2</td>\n",
       "      <td>242.0</td>\n",
       "      <td>17.8</td>\n",
       "      <td>392.83</td>\n",
       "      <td>4.03</td>\n",
       "      <td>34.7</td>\n",
       "    </tr>\n",
       "    <tr>\n",
       "      <th>3</th>\n",
       "      <td>0.03237</td>\n",
       "      <td>0.0</td>\n",
       "      <td>2.18</td>\n",
       "      <td>0</td>\n",
       "      <td>0.458</td>\n",
       "      <td>6.998</td>\n",
       "      <td>45.8</td>\n",
       "      <td>6.0622</td>\n",
       "      <td>3</td>\n",
       "      <td>222.0</td>\n",
       "      <td>18.7</td>\n",
       "      <td>394.63</td>\n",
       "      <td>2.94</td>\n",
       "      <td>33.4</td>\n",
       "    </tr>\n",
       "    <tr>\n",
       "      <th>4</th>\n",
       "      <td>0.06905</td>\n",
       "      <td>0.0</td>\n",
       "      <td>2.18</td>\n",
       "      <td>0</td>\n",
       "      <td>0.458</td>\n",
       "      <td>7.147</td>\n",
       "      <td>54.2</td>\n",
       "      <td>6.0622</td>\n",
       "      <td>3</td>\n",
       "      <td>222.0</td>\n",
       "      <td>18.7</td>\n",
       "      <td>396.90</td>\n",
       "      <td>5.33</td>\n",
       "      <td>36.2</td>\n",
       "    </tr>\n",
       "  </tbody>\n",
       "</table>\n",
       "</div>"
      ],
      "text/plain": [
       "      CRIM    ZN  INDUS  CHAS    NOX     RM   AGE     DIS  RAD    TAX   \n",
       "0  0.00632  18.0   2.31     0  0.538  6.575  65.2  4.0900    1  296.0  \\\n",
       "1  0.02731   0.0   7.07     0  0.469  6.421  78.9  4.9671    2  242.0   \n",
       "2  0.02729   0.0   7.07     0  0.469  7.185  61.1  4.9671    2  242.0   \n",
       "3  0.03237   0.0   2.18     0  0.458  6.998  45.8  6.0622    3  222.0   \n",
       "4  0.06905   0.0   2.18     0  0.458  7.147  54.2  6.0622    3  222.0   \n",
       "\n",
       "   PTRATIO       B  LSTAT  MEDV  \n",
       "0     15.3  396.90   4.98  24.0  \n",
       "1     17.8  396.90   9.14  21.6  \n",
       "2     17.8  392.83   4.03  34.7  \n",
       "3     18.7  394.63   2.94  33.4  \n",
       "4     18.7  396.90   5.33  36.2  "
      ]
     },
     "execution_count": 93,
     "metadata": {},
     "output_type": "execute_result"
    }
   ],
   "source": [
    "column_names = ['CRIM', 'ZN', 'INDUS', 'CHAS', 'NOX', 'RM',\n",
    "          'AGE', 'DIS', 'RAD', 'TAX', 'PTRATIO', 'B', 'LSTAT', 'MEDV']\n",
    "\n",
    "df = pd.read_csv(\"housing.csv\", delim_whitespace=True, names = column_names)\n",
    "\n",
    "df.head()"
   ]
  },
  {
   "cell_type": "markdown",
   "metadata": {},
   "source": [
    "## Preprocessing data"
   ]
  },
  {
   "cell_type": "code",
   "execution_count": 94,
   "metadata": {},
   "outputs": [],
   "source": [
    "scaler = MinMaxScaler()\n",
    "\n",
    "normalized_data = scaler.fit_transform(df)\n",
    "\n",
    "df = pd.DataFrame(normalized_data, columns = column_names)\n"
   ]
  },
  {
   "cell_type": "markdown",
   "metadata": {},
   "source": [
    "## Visualizing data"
   ]
  },
  {
   "cell_type": "code",
   "execution_count": 95,
   "metadata": {},
   "outputs": [
    {
     "data": {
      "image/png": "[encoded data removed]",
      "text/plain": [
       "<Figure size 480x480 with 2 Axes>"
      ]
     },
     "metadata": {},
     "output_type": "display_data"
    }
   ],
   "source": [
    "correlation_matrix = df.corr()\n",
    "\n",
    "plt.matshow(correlation_matrix)\n",
    "plt.xticks(range(len(column_names)), column_names)\n",
    "plt.yticks(range(len(column_names)), column_names)\n",
    "plt.colorbar()\n",
    "plt.show()"
   ]
  },
  {
   "cell_type": "code",
   "execution_count": 96,
   "metadata": {},
   "outputs": [
    {
     "data": {
      "image/png": "[encoded data removed]",
      "text/plain": [
       "<Figure size 1000x600 with 1 Axes>"
      ]
     },
     "metadata": {},
     "output_type": "display_data"
    }
   ],
   "source": [
    "import matplotlib.pyplot as plt\n",
    "\n",
    "plt.figure(figsize=(10, 6))\n",
    "\n",
    "plt.hist(df['MEDV'], bins=30, color='skyblue', edgecolor='black')\n",
    "\n",
    "plt.xlabel('Median Housing Price (MEDV)')\n",
    "plt.ylabel('Frequency')\n",
    "plt.title('Histogram of Median Housing Prices')\n",
    "\n",
    "plt.show()\n"
   ]
  },
  {
   "cell_type": "markdown",
   "metadata": {},
   "source": [
    "## Train/test split"
   ]
  },
  {
   "cell_type": "code",
   "execution_count": 97,
   "metadata": {},
   "outputs": [
    {
     "name": "stdout",
     "output_type": "stream",
     "text": [
      "(404, 13) (404,)\n",
      "(102, 13) (102,)\n"
     ]
    }
   ],
   "source": [
    "X = df.drop(columns=['MEDV'],axis=1)\n",
    "y = df['MEDV']\n",
    "\n",
    "X_train, X_test, y_train, y_test = train_test_split(X, y, test_size=0.2, random_state=42)\n",
    "\n",
    "print(X_train.shape, y_train.shape)\n",
    "print(X_test.shape, y_test.shape)"
   ]
  },
  {
   "cell_type": "markdown",
   "metadata": {},
   "source": [
    "## Model building: linear regression"
   ]
  },
  {
   "cell_type": "code",
   "execution_count": 98,
   "metadata": {},
   "outputs": [],
   "source": [
    "model = LinearRegression()\n",
    "\n",
    "model.fit(X_train, y_train)\n",
    "\n",
    "y_pred_lr = model.predict(X_test)"
   ]
  },
  {
   "cell_type": "markdown",
   "metadata": {},
   "source": [
    "## Model building: random forest regressor"
   ]
  },
  {
   "cell_type": "code",
   "execution_count": 99,
   "metadata": {},
   "outputs": [],
   "source": [
    "rf_model = RandomForestRegressor(n_estimators=100, random_state=42)\n",
    "\n",
    "rf_model.fit(X_train, y_train)\n",
    "\n",
    "y_pred_rf = rf_model.predict(X_test)"
   ]
  },
  {
   "cell_type": "markdown",
   "metadata": {},
   "source": [
    "## Model building: simple neural network"
   ]
  },
  {
   "cell_type": "code",
   "execution_count": 100,
   "metadata": {},
   "outputs": [
    {
     "name": "stdout",
     "output_type": "stream",
     "text": [
      "Epoch 1/100, Loss: 0.0595819354057312\n",
      "Epoch 2/100, Loss: 0.021109942346811295\n",
      "Epoch 3/100, Loss: 0.03796941787004471\n",
      "Epoch 4/100, Loss: 0.030040647834539413\n",
      "Epoch 5/100, Loss: 0.020512595772743225\n",
      "Epoch 6/100, Loss: 0.011152476072311401\n",
      "Epoch 7/100, Loss: 0.03960582986474037\n",
      "Epoch 8/100, Loss: 0.006518549285829067\n",
      "Epoch 9/100, Loss: 0.01290141325443983\n",
      "Epoch 10/100, Loss: 0.009770436212420464\n",
      "Epoch 11/100, Loss: 0.013240614905953407\n",
      "Epoch 12/100, Loss: 0.00209906161762774\n",
      "Epoch 13/100, Loss: 0.006588303949683905\n",
      "Epoch 14/100, Loss: 0.013076958246529102\n",
      "Epoch 15/100, Loss: 0.007584744598716497\n",
      "Epoch 16/100, Loss: 0.0065285139717161655\n",
      "Epoch 17/100, Loss: 0.005384679883718491\n",
      "Epoch 18/100, Loss: 0.003760170191526413\n",
      "Epoch 19/100, Loss: 0.00344456871971488\n",
      "Epoch 20/100, Loss: 0.0014666374772787094\n",
      "Epoch 21/100, Loss: 0.008194091729819775\n",
      "Epoch 22/100, Loss: 0.004625711590051651\n",
      "Epoch 23/100, Loss: 0.003259988036006689\n",
      "Epoch 24/100, Loss: 0.010380832478404045\n",
      "Epoch 25/100, Loss: 0.005658644251525402\n",
      "Epoch 26/100, Loss: 0.012358525767922401\n",
      "Epoch 27/100, Loss: 0.002332954667508602\n",
      "Epoch 28/100, Loss: 0.006864755414426327\n",
      "Epoch 29/100, Loss: 0.0028300448320806026\n",
      "Epoch 30/100, Loss: 0.0051226625218987465\n",
      "Epoch 31/100, Loss: 0.006860633846372366\n",
      "Epoch 32/100, Loss: 0.0032997175585478544\n",
      "Epoch 33/100, Loss: 0.004445313476026058\n",
      "Epoch 34/100, Loss: 0.004761113785207272\n",
      "Epoch 35/100, Loss: 0.002123649464920163\n",
      "Epoch 36/100, Loss: 0.008804934099316597\n",
      "Epoch 37/100, Loss: 0.0025829689111560583\n",
      "Epoch 38/100, Loss: 0.004368375055491924\n",
      "Epoch 39/100, Loss: 0.0023428278509527445\n",
      "Epoch 40/100, Loss: 0.003980488516390324\n",
      "Epoch 41/100, Loss: 0.006028830073773861\n",
      "Epoch 42/100, Loss: 0.0010244178120046854\n",
      "Epoch 43/100, Loss: 0.0023583483416587114\n",
      "Epoch 44/100, Loss: 0.003173280507326126\n",
      "Epoch 45/100, Loss: 0.005132201127707958\n",
      "Epoch 46/100, Loss: 0.015473333187401295\n",
      "Epoch 47/100, Loss: 0.0048281727358698845\n",
      "Epoch 48/100, Loss: 0.0028125038370490074\n",
      "Epoch 49/100, Loss: 0.002530521247535944\n",
      "Epoch 50/100, Loss: 0.0022797808051109314\n",
      "Epoch 51/100, Loss: 0.0046195173636078835\n",
      "Epoch 52/100, Loss: 0.0035008650738745928\n",
      "Epoch 53/100, Loss: 0.004989407025277615\n",
      "Epoch 54/100, Loss: 0.0028903656639158726\n",
      "Epoch 55/100, Loss: 0.0025203865952789783\n",
      "Epoch 56/100, Loss: 0.003388236043974757\n",
      "Epoch 57/100, Loss: 0.002886004513129592\n",
      "Epoch 58/100, Loss: 0.0030633672140538692\n",
      "Epoch 59/100, Loss: 0.003764146938920021\n",
      "Epoch 60/100, Loss: 0.0018204901134595275\n",
      "Epoch 61/100, Loss: 0.00183094572275877\n",
      "Epoch 62/100, Loss: 0.0037649739533662796\n",
      "Epoch 63/100, Loss: 0.002136917319148779\n",
      "Epoch 64/100, Loss: 0.0041322363540530205\n",
      "Epoch 65/100, Loss: 0.0017086369916796684\n",
      "Epoch 66/100, Loss: 0.0023411992006003857\n",
      "Epoch 67/100, Loss: 0.001305700046941638\n",
      "Epoch 68/100, Loss: 0.0026365367230027914\n",
      "Epoch 69/100, Loss: 0.0019959628116339445\n",
      "Epoch 70/100, Loss: 0.0010180266108363867\n",
      "Epoch 71/100, Loss: 0.0014298424357548356\n",
      "Epoch 72/100, Loss: 0.0021760270465165377\n",
      "Epoch 73/100, Loss: 0.0036348861176520586\n",
      "Epoch 74/100, Loss: 0.002863192232325673\n",
      "Epoch 75/100, Loss: 0.002480585128068924\n",
      "Epoch 76/100, Loss: 0.0032455369364470243\n",
      "Epoch 77/100, Loss: 0.0015063714236021042\n",
      "Epoch 78/100, Loss: 0.0008574714884161949\n",
      "Epoch 79/100, Loss: 0.0014583806041628122\n",
      "Epoch 80/100, Loss: 0.0019065963570028543\n",
      "Epoch 81/100, Loss: 0.0014260339085012674\n",
      "Epoch 82/100, Loss: 0.0011818454368039966\n",
      "Epoch 83/100, Loss: 0.0014486581785604358\n",
      "Epoch 84/100, Loss: 0.0049425032921135426\n",
      "Epoch 85/100, Loss: 0.0014641277957707644\n",
      "Epoch 86/100, Loss: 0.0019075877498835325\n",
      "Epoch 87/100, Loss: 0.0015348006272688508\n",
      "Epoch 88/100, Loss: 0.0016606284771114588\n",
      "Epoch 89/100, Loss: 0.0023726467043161392\n",
      "Epoch 90/100, Loss: 0.0012019634013995528\n",
      "Epoch 91/100, Loss: 0.0013720893766731024\n",
      "Epoch 92/100, Loss: 0.00141097919549793\n",
      "Epoch 93/100, Loss: 0.002578263869509101\n",
      "Epoch 94/100, Loss: 0.0016167486319318414\n",
      "Epoch 95/100, Loss: 0.0016895860899239779\n",
      "Epoch 96/100, Loss: 0.0015387923922389746\n",
      "Epoch 97/100, Loss: 0.0024121925234794617\n",
      "Epoch 98/100, Loss: 0.00100174848921597\n",
      "Epoch 99/100, Loss: 0.0011837166966870427\n",
      "Epoch 100/100, Loss: 0.0017820524517446756\n"
     ]
    }
   ],
   "source": [
    "X_train_tensor = torch.tensor(X_train.values, dtype=torch.float32)\n",
    "y_train_tensor = torch.tensor(y_train.values, dtype=torch.float32)\n",
    "X_test_tensor = torch.tensor(X_test.values, dtype=torch.float32)\n",
    "y_test_tensor = torch.tensor(y_test.values, dtype=torch.float32)\n",
    "\n",
    "train_dataset = TensorDataset(X_train_tensor, y_train_tensor)\n",
    "train_loader = DataLoader(train_dataset, batch_size=64, shuffle=True)\n",
    "\n",
    "class NeuralNet(nn.Module):\n",
    "    def __init__(self, input_size):\n",
    "        super(NeuralNet, self).__init__()\n",
    "        self.fc1 = nn.Linear(input_size, 128)\n",
    "        self.fc2 = nn.Linear(128, 64)\n",
    "        self.fc3 = nn.Linear(64, 32)\n",
    "        self.fc4 = nn.Linear(32, 1)\n",
    "\n",
    "    def forward(self, x):\n",
    "        x = torch.relu(self.fc1(x))\n",
    "        x = torch.relu(self.fc2(x))\n",
    "        x = torch.relu(self.fc3(x))\n",
    "        x = self.fc4(x)\n",
    "        return x\n",
    "\n",
    "model = NeuralNet(input_size=X_train.shape[1])\n",
    "\n",
    "criterion = nn.MSELoss()\n",
    "optimizer = optim.Adam(model.parameters(), lr=0.005)\n",
    "\n",
    "epochs = 100\n",
    "for epoch in range(epochs):\n",
    "    for inputs, targets in train_loader:\n",
    "        optimizer.zero_grad()\n",
    "        outputs = model(inputs)\n",
    "        loss = criterion(outputs.squeeze(), targets)\n",
    "        loss.backward()\n",
    "        optimizer.step()\n",
    "    print(f\"Epoch {epoch+1}/{epochs}, Loss: {loss.item()}\")\n",
    "\n",
    "with torch.no_grad():\n",
    "    y_pred_nn = model(X_test_tensor).detach().numpy()"
   ]
  },
  {
   "cell_type": "markdown",
   "metadata": {},
   "source": [
    "## Results and Discussion"
   ]
  },
  {
   "cell_type": "code",
   "execution_count": 101,
   "metadata": {},
   "outputs": [
    {
     "name": "stdout",
     "output_type": "stream",
     "text": [
      "Linear Regression:\n",
      "MSE: 0.011995614555542482\n",
      "MAE: 0.07086871035306333\n",
      "RMSE: 0.1095244929481186\n",
      "R-squared: 0.6687594935356318\n",
      "\n",
      "Random Forest Regression:\n",
      "MSE: 0.003989791217622853\n",
      "MAE: 0.04519128540305013\n",
      "RMSE: 0.06316479413108898\n",
      "R-squared: 0.8898280319450698\n",
      "\n",
      "Neural Network Regression:\n",
      "MSE: 0.004592770432955918\n",
      "MAE: 0.04647975922702185\n",
      "RMSE: 0.06776998179840332\n",
      "R-squared: 0.8731776852913314\n"
     ]
    }
   ],
   "source": [
    "from sklearn.metrics import mean_squared_error, mean_absolute_error, r2_score\n",
    "import numpy as np\n",
    "\n",
    "mse_lr = mean_squared_error(y_test, y_pred_lr)\n",
    "mae_lr = mean_absolute_error(y_test, y_pred_lr)\n",
    "rmse_lr = np.sqrt(mse_lr)\n",
    "r2_lr = r2_score(y_test, y_pred_lr)\n",
    "\n",
    "mse_rf = mean_squared_error(y_test, y_pred_rf)\n",
    "mae_rf = mean_absolute_error(y_test, y_pred_rf)\n",
    "rmse_rf = np.sqrt(mse_rf)\n",
    "r2_rf = r2_score(y_test, y_pred_rf)\n",
    "\n",
    "mse_nn = mean_squared_error(y_test, y_pred_nn)\n",
    "mae_nn = mean_absolute_error(y_test, y_pred_nn)\n",
    "rmse_nn = np.sqrt(mse_nn)\n",
    "r2_nn = r2_score(y_test, y_pred_nn)\n",
    "\n",
    "print(\"Linear Regression:\")\n",
    "print(f\"MSE: {mse_lr}\")\n",
    "print(f\"MAE: {mae_lr}\")\n",
    "print(f\"RMSE: {rmse_lr}\")\n",
    "print(f\"R-squared: {r2_lr}\")\n",
    "print()\n",
    "print(\"Random Forest Regression:\")\n",
    "print(f\"MSE: {mse_rf}\")\n",
    "print(f\"MAE: {mae_rf}\")\n",
    "print(f\"RMSE: {rmse_rf}\")\n",
    "print(f\"R-squared: {r2_rf}\")\n",
    "print()\n",
    "print(\"Neural Network Regression:\")\n",
    "print(f\"MSE: {mse_nn}\")\n",
    "print(f\"MAE: {mae_nn}\")\n",
    "print(f\"RMSE: {rmse_nn}\")\n",
    "print(f\"R-squared: {r2_nn}\")\n"
   ]
  },
  {
   "cell_type": "markdown",
   "metadata": {},
   "source": [
    "### Model Discussion\n",
    "Linear Regression:\n",
    "-   Performance: The linear regression model has decent performance, with an R-squared value of 0.669, indicating that it explains around 66.9% of the variance in the target variable.\n",
    "-   Interpretation: The model's simplicity makes it easy to interpret. However, it may struggle to capture complex nonlinear relationships in the data.\n",
    "\n",
    "Random Forest Regression:\n",
    "-   Performance: The random forest regression model outperforms the linear regression model significantly, with a much lower MSE and higher R-squared value (0.890).\n",
    "-   Interpretation: Random forest regression can capture complex nonlinear relationships and interactions between features. It's robust to outliers and doesn't require feature scaling.\n",
    "\n",
    "Neural Network Regression:\n",
    "-   Performance: The neural network regression model performs slightly worse than the random forest model but better than the linear regression model, with an R-squared value of 0.876.\n",
    "-   Interpretation: Neural networks have the flexibility to learn complex patterns in the data. However, they may require more computational resources for training and tuning, and their black-box nature makes interpretation challenging.\n",
    "\n",
    "### Feature Discussion\n",
    "Based on the correlation matrix and heatmap:\n",
    "-   Features like 'RM' (average number of rooms), 'ZN' (proportion of residential land), and 'B' (proportion of blacks) have a positive correlation with 'MEDV', indicating that as these features increase, 'MEDV' tends to increase as well.\n",
    "-   Features like 'LSTAT' (% lower status of the population), 'PTRATIO' (pupil-teacher ratio), and 'INDUS' (proportion of non-retail business acres) have a negative correlation with 'MEDV', indicating that as these features increase, 'MEDV' tends to decrease."
   ]
  }
 ],
 "metadata": {
  "kernelspec": {
   "display_name": "Python 3",
   "language": "python",
   "name": "python3"
  },
  "language_info": {
   "codemirror_mode": {
    "name": "ipython",
    "version": 3
   },
   "file_extension": ".py",
   "mimetype": "text/x-python",
   "name": "python",
   "nbconvert_exporter": "python",
   "pygments_lexer": "ipython3",
   "version": "3.11.3"
  }
 },
 "nbformat": 4,
 "nbformat_minor": 2
}
